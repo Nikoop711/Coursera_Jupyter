{
 "cells": [
  {
   "cell_type": "markdown",
   "id": "4ca14c3d-d174-48f8-95cd-436f632fbe7e",
   "metadata": {},
   "source": [
    "### Proyecto 1_Python"
   ]
  },
  {
   "cell_type": "markdown",
   "id": "b7efab5a-79cc-4df3-a867-a6fd6a9c7292",
   "metadata": {},
   "source": [
    "#### Introduction\n",
    "\n",
    "For new user of Jupyter notebook"
   ]
  },
  {
   "cell_type": "markdown",
   "id": "708f7fd5-65bf-4edc-92e6-02214666bbc8",
   "metadata": {},
   "source": [
    "#### List Data Science Languages\n",
    "\n",
    "Python\n",
    "SQL\n",
    "R\n",
    "Javascript\n",
    "Matlab\n",
    "Scala\n",
    "C++\n",
    "Java\n",
    "SAS Language\n",
    "Swift\n",
    "Julia"
   ]
  },
  {
   "cell_type": "markdown",
   "id": "69477a22-87a5-4b45-b156-b89a64b018c0",
   "metadata": {},
   "source": [
    "#### List Data Science Libraries\n",
    "\n",
    "Pandas\n",
    "Numpy\n",
    "Matplotlib\n",
    "Seaborn\n",
    "Tensorflow\n",
    "Keras\n",
    "Plotly\n",
    "Scikit-learn\n",
    "Pytorch\n",
    "Scipy\n",
    "Scrapy"
   ]
  },
  {
   "cell_type": "markdown",
   "id": "7daf5bad-282c-454c-ae3a-76878a0dd2c2",
   "metadata": {},
   "source": [
    "#### List Data Science Tools\n",
    "\n",
    "Apache Spark\n",
    "Tableau\n",
    "Power BI\n",
    "Jupyter Notebook\n",
    "Knime"
   ]
  },
  {
   "cell_type": "code",
   "execution_count": 1,
   "id": "d606e835-3b67-42c0-95ef-3c2b99c95639",
   "metadata": {},
   "outputs": [
    {
     "data": {
      "text/plain": [
       "2"
      ]
     },
     "execution_count": 1,
     "metadata": {},
     "output_type": "execute_result"
    }
   ],
   "source": [
    "## Aritmethic Expression\n",
    "\n",
    "1+1"
   ]
  },
  {
   "cell_type": "code",
   "execution_count": 2,
   "id": "9ba327a0-106d-4c94-82d4-cb18af2bcd46",
   "metadata": {},
   "outputs": [
    {
     "data": {
      "text/plain": [
       "25"
      ]
     },
     "execution_count": 2,
     "metadata": {},
     "output_type": "execute_result"
    }
   ],
   "source": [
    "## Aritmethic Expression\n",
    "\n",
    "5**2"
   ]
  },
  {
   "cell_type": "code",
   "execution_count": 7,
   "id": "0b50a38d-c257-4744-bbfd-7a98ebc249fa",
   "metadata": {},
   "outputs": [
    {
     "data": {
      "text/plain": [
       "3.25"
      ]
     },
     "execution_count": 7,
     "metadata": {},
     "output_type": "execute_result"
    }
   ],
   "source": [
    "### Multiply and add integers\n",
    "\n",
    "Calification = (0.5 * 4)\n",
    "Calification_1 = Calification + (0.25+1)\n",
    "Calification_1"
   ]
  },
  {
   "cell_type": "code",
   "execution_count": 13,
   "id": "0e67185e-d480-4595-bd97-71e7c4cf8582",
   "metadata": {},
   "outputs": [
    {
     "name": "stdout",
     "output_type": "stream",
     "text": [
      "1.5\n"
     ]
    }
   ],
   "source": [
    "### Minutes to Hours\n",
    "\n",
    "Minutes = 90\n",
    "Hour = Minutes / 60 \n",
    "print(Hour)"
   ]
  },
  {
   "cell_type": "code",
   "execution_count": 15,
   "id": "b2f32217-77a6-47bf-a482-667486807c7c",
   "metadata": {},
   "outputs": [
    {
     "name": "stdout",
     "output_type": "stream",
     "text": [
      "1 learn\n",
      "2 practice\n",
      "3 review\n",
      "4 apply\n",
      "5 execution\n"
     ]
    }
   ],
   "source": [
    "### Objetives\n",
    "\n",
    "objetives = ['learn','practice','review','apply','execution']\n",
    "\n",
    "for i, objetives in enumerate(objetives, start = 1):\n",
    "    print(i, objetives)"
   ]
  },
  {
   "cell_type": "markdown",
   "id": "9d440ff3-db9e-45af-bcea-4d80f0a08468",
   "metadata": {},
   "source": [
    "### Author: Nicolás Osorio Pérez"
   ]
  },
  {
   "cell_type": "code",
   "execution_count": null,
   "id": "7c695145-993a-43c1-b046-06bb46dc27f6",
   "metadata": {},
   "outputs": [],
   "source": []
  }
 ],
 "metadata": {
  "kernelspec": {
   "display_name": "Python 3 (ipykernel)",
   "language": "python",
   "name": "python3"
  },
  "language_info": {
   "codemirror_mode": {
    "name": "ipython",
    "version": 3
   },
   "file_extension": ".py",
   "mimetype": "text/x-python",
   "name": "python",
   "nbconvert_exporter": "python",
   "pygments_lexer": "ipython3",
   "version": "3.13.5"
  }
 },
 "nbformat": 4,
 "nbformat_minor": 5
}
